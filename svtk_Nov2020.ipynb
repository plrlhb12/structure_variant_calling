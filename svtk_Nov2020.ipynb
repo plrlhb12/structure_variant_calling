{
 "cells": [
  {
   "cell_type": "code",
   "execution_count": null,
   "metadata": {},
   "outputs": [],
   "source": []
  },
  {
   "cell_type": "markdown",
   "metadata": {},
   "source": [
    "# svtk for 4 KOLF2.1 cell lines\n",
    "\n",
    "### Nov 10th, 2020\n",
    "\n",
    "Last time I followed the script from Anni.\n",
    "This time try to use the procedures from the github of Dr. Talkowski lab \n",
    "\n",
    "This the comments from Anni \"I’ve attached my script and I believe all the necessary external files but let me know if I forgot any. Basically in the script I ran manta version 1.6 to call the variants but had to convert the output back to 1.4 versioning since the newer versioning didn’t handle inversions correctly from what I remember. Then following that I was able to filter and standardize\".\n",
    "\n",
    "These are comments from Kim \"For our current PD analysis we actually ran an **older version** of manta with default settings, we are then running gnomad-SV with the manta output that runs multiple filtering modules within the pipeline.\"\n",
    "\n",
    "\n"
   ]
  },
  {
   "cell_type": "code",
   "execution_count": 2,
   "metadata": {
    "tags": []
   },
   "outputs": [
    {
     "output_type": "stream",
     "name": "stdout",
     "text": "/Users/pengl7/Downloads/WGS/SV_calling\n"
    }
   ],
   "source": [
    "%cd /Users/pengl7/Downloads/sv"
   ]
  },
  {
   "cell_type": "markdown",
   "metadata": {},
   "source": [
    "## copy thee files to local to do inversion reformat"
   ]
  },
  {
   "cell_type": "code",
   "execution_count": 114,
   "metadata": {
    "tags": []
   },
   "outputs": [
    {
     "output_type": "stream",
     "name": "stdout",
     "text": "gs://test-7cee72c0e768/Jax/sv-manta/KOLF2-ARID2-A2/\ngs://test-7cee72c0e768/Jax/sv-manta/KUCG3-C1/\ngs://test-7cee72c0e768/Jax/sv-manta/LNGPI1-C1/\ngs://test-7cee72c0e768/Jax/sv-manta/NCRM1-C6/\ngs://test-7cee72c0e768/Jax/sv-manta/NCRM5-C5/\ngs://test-7cee72c0e768/Jax/sv-manta/NN0003932-C3/\ngs://test-7cee72c0e768/Jax/sv-manta/NN0004297-C1/\ngs://test-7cee72c0e768/Jax/sv-manta/PGP1-C2/\n"
    }
   ],
   "source": [
    "!gsutil ls {PROJECT_BUCKET}/{COHORT}/sv-manta/"
   ]
  },
  {
   "cell_type": "code",
   "execution_count": 129,
   "metadata": {
    "tags": []
   },
   "outputs": [
    {
     "output_type": "stream",
     "name": "stderr",
     "text": "Copying gs://test-7cee72c0e768/Jax/sv-manta/KOLF2-ARID2-A2/KOLF2-ARID2-A2.diploidSV.vcf.gz...\nCopying gs://test-7cee72c0e768/Jax/sv-manta/KOLF2-ARID2-A2/KOLF2-ARID2-A2.diploidSV.vcf.gz.tbi...\n/ [2 files][856.9 KiB/856.9 KiB]                                                \nOperation completed over 2 objects/856.9 KiB.                                    \nCopying gs://test-7cee72c0e768/Jax/sv-manta/KUCG3-C1/KUCG3-C1.diploidSV.vcf.gz...\nCopying gs://test-7cee72c0e768/Jax/sv-manta/KUCG3-C1/KUCG3-C1.diploidSV.vcf.gz.tbi...\n- [2 files][  1.0 MiB/  1.0 MiB]                                                \nOperation completed over 2 objects/1.0 MiB.                                      \nCopying gs://test-7cee72c0e768/Jax/sv-manta/LNGPI1-C1/LNGPI1-C1.diploidSV.vcf.gz...\nCopying gs://test-7cee72c0e768/Jax/sv-manta/LNGPI1-C1/LNGPI1-C1.diploidSV.vcf.gz.tbi...\n- [2 files][769.5 KiB/769.5 KiB]                                                \nOperation completed over 2 objects/769.5 KiB.                                    \nCopying gs://test-7cee72c0e768/Jax/sv-manta/NCRM1-C6/NCRM1-C6.diploidSV.vcf.gz...\nCopying gs://test-7cee72c0e768/Jax/sv-manta/NCRM1-C6/NCRM1-C6.diploidSV.vcf.gz.tbi...\n- [2 files][836.6 KiB/836.6 KiB]                                                \nOperation completed over 2 objects/836.6 KiB.                                    \nCopying gs://test-7cee72c0e768/Jax/sv-manta/NCRM5-C5/NCRM5-C5.diploidSV.vcf.gz...\nCopying gs://test-7cee72c0e768/Jax/sv-manta/NCRM5-C5/NCRM5-C5.diploidSV.vcf.gz.tbi...\n- [2 files][801.7 KiB/801.7 KiB]                                                \nOperation completed over 2 objects/801.7 KiB.                                    \nCopying gs://test-7cee72c0e768/Jax/sv-manta/NN0003932-C3/NN0003932-C3.diploidSV.vcf.gz...\nCopying gs://test-7cee72c0e768/Jax/sv-manta/NN0003932-C3/NN0003932-C3.diploidSV.vcf.gz.tbi...\n- [2 files][732.6 KiB/732.6 KiB]                                                \nOperation completed over 2 objects/732.6 KiB.                                    \nCopying gs://test-7cee72c0e768/Jax/sv-manta/NN0004297-C1/NN0004297-C1.diploidSV.vcf.gz...\nCopying gs://test-7cee72c0e768/Jax/sv-manta/NN0004297-C1/NN0004297-C1.diploidSV.vcf.gz.tbi...\n- [2 files][857.1 KiB/857.1 KiB]                                                \nOperation completed over 2 objects/857.1 KiB.                                    \nCopying gs://test-7cee72c0e768/Jax/sv-manta/PGP1-C2/PGP1-C2.diploidSV.vcf.gz...\nCopying gs://test-7cee72c0e768/Jax/sv-manta/PGP1-C2/PGP1-C2.diploidSV.vcf.gz.tbi...\n- [2 files][842.2 KiB/842.2 KiB]                                                \nOperation completed over 2 objects/842.2 KiB.                                    \n"
    }
   ],
   "source": [
    "%%bash -s $PROJECT_BUCKET $COHORT\n",
    "\n",
    "PROJECT_BUCKET=${1}\n",
    "COHORT=${2}\n",
    "\n",
    "for SAMPLE in 'KOLF2-ARID2-A2' 'KUCG3-C1' 'LNGPI1-C1' 'NCRM1-C6' 'NCRM5-C5' 'NN0003932-C3' 'NN0004297-C1' 'PGP1-C2'\n",
    "do \n",
    "gsutil cp -r ${PROJECT_BUCKET}/${COHORT}/sv-manta/${SAMPLE}/${SAMPLE}.diploidSV.vcf.gz* manta-output/\n",
    "done"
   ]
  },
  {
   "cell_type": "code",
   "execution_count": 133,
   "metadata": {
    "tags": []
   },
   "outputs": [],
   "source": [
    "%%bash\n",
    "for SAMPLE in 'KOLF2-ARID2-A2' 'KUCG3-C1' 'LNGPI1-C1' 'NCRM1-C6' 'NCRM5-C5' 'NN0003932-C3' 'NN0004297-C1' 'PGP1-C2'\n",
    "do\n",
    "gunzip manta-output/${SAMPLE}.diploidSV.vcf.gz\n",
    "done "
   ]
  },
  {
   "cell_type": "code",
   "execution_count": 134,
   "metadata": {
    "tags": []
   },
   "outputs": [
    {
     "output_type": "stream",
     "name": "stdout",
     "text": "total 52216\n-rw-r--r--  1 pengl7  1360859114    90K Sep  9 09:43 PGP1-C2.diploidSV.vcf.gz.tbi\n-rw-r--r--  1 pengl7  1360859114   3.1M Sep  9 09:43 PGP1-C2.diploidSV.vcf\n-rw-r--r--  1 pengl7  1360859114    94K Sep  9 09:43 NN0004297-C1.diploidSV.vcf.gz.tbi\n-rw-r--r--  1 pengl7  1360859114   3.1M Sep  9 09:43 NN0004297-C1.diploidSV.vcf\n-rw-r--r--  1 pengl7  1360859114    85K Sep  9 09:43 NN0003932-C3.diploidSV.vcf.gz.tbi\n-rw-r--r--  1 pengl7  1360859114   2.7M Sep  9 09:43 NN0003932-C3.diploidSV.vcf\n-rw-r--r--  1 pengl7  1360859114    88K Sep  9 09:43 NCRM5-C5.diploidSV.vcf.gz.tbi\n-rw-r--r--  1 pengl7  1360859114   2.9M Sep  9 09:43 NCRM5-C5.diploidSV.vcf\n-rw-r--r--  1 pengl7  1360859114    91K Sep  9 09:43 NCRM1-C6.diploidSV.vcf.gz.tbi\n-rw-r--r--  1 pengl7  1360859114   3.1M Sep  9 09:43 NCRM1-C6.diploidSV.vcf\n-rw-r--r--  1 pengl7  1360859114    87K Sep  9 09:43 LNGPI1-C1.diploidSV.vcf.gz.tbi\n-rw-r--r--  1 pengl7  1360859114   2.8M Sep  9 09:43 LNGPI1-C1.diploidSV.vcf\n-rw-r--r--  1 pengl7  1360859114   105K Sep  9 09:43 KUCG3-C1.diploidSV.vcf.gz.tbi\n-rw-r--r--  1 pengl7  1360859114   3.9M Sep  9 09:43 KUCG3-C1.diploidSV.vcf\n-rw-r--r--  1 pengl7  1360859114    92K Sep  9 09:43 KOLF2-ARID2-A2.diploidSV.vcf.gz.tbi\n-rw-r--r--  1 pengl7  1360859114   3.1M Sep  9 09:43 KOLF2-ARID2-A2.diploidSV.vcf\n"
    }
   ],
   "source": [
    "%ls -lth manta-output/"
   ]
  },
  {
   "cell_type": "markdown",
   "metadata": {},
   "source": [
    "## Prepare the needed files\n",
    "\n",
    "copy the conversion.py file to to manta-out folde\n",
    "download the reference fasta\n",
    "install samtools\n"
   ]
  },
  {
   "cell_type": "code",
   "execution_count": 135,
   "metadata": {
    "tags": []
   },
   "outputs": [
    {
     "output_type": "stream",
     "name": "stdout",
     "text": "Copying gs://gcp-public-data--broad-references/hg38/v0/Homo_sapiens_assembly38.fasta...\n==> NOTE: You are downloading one or more large file(s), which would\nrun significantly faster if you enabled sliced object downloads. This\nfeature is enabled by default but requires that compiled crcmod be\ninstalled (see \"gsutil help crcmod\").\n\n\nOperation completed over 1 objects/3.0 GiB.                                      \n"
    }
   ],
   "source": [
    "!gsutil -m cp gs://gcp-public-data--broad-references/hg38/v0/Homo_sapiens_assembly38.fasta manta-output/"
   ]
  },
  {
   "cell_type": "markdown",
   "metadata": {},
   "source": [
    "### Samtools installed using anaconda in my mac doesn't work\n",
    "\n",
    "dyld: Library not loaded: @rpath/libcrypto.1.0.0.dylib\n",
    "  Referenced from: /Users/pengl7/opt/anaconda3/envs/genomics/bin/samtools\n",
    "  Reason: image not found\n",
    "Abort trap: 6\n",
    "\n"
   ]
  },
  {
   "cell_type": "code",
   "execution_count": null,
   "metadata": {},
   "outputs": [],
   "source": [
    "# since my samtools installed using anaconda doesn't work in my local mac, do the following in biowulf\n",
    "# actaully I still can run the following cmds in local mac becasue I have installed samtools through the c compile method.\n",
    "# exeute the following commands in terminal not in jupyter notebook\n",
    "module load python/2.7 samtools\n",
    "for sample in 'KOLF2-ARID2-A2' 'KUCG3-C1' 'LNGPI1-C1' 'NCRM1-C6' 'NCRM5-C5' 'NN0003932-C3' 'NN0004297-C1' 'PGP1-C2'\n",
    "do\n",
    "python convertInversion.py /usr/local/Anaconda/envs/py2.7/bin/samtools Homo_sapiens_assembly38.fasta ${sample}.diploidSV.vcf > ${sample}.diploidSV.1.4.vcf\n",
    "done "
   ]
  },
  {
   "cell_type": "markdown",
   "metadata": {},
   "source": [
    "## Solutions for samtools in local mac\n",
    "\n",
    "conda uninstall samtools\n",
    "cp the samtools executable into /usr/local/bin/"
   ]
  },
  {
   "cell_type": "code",
   "execution_count": 152,
   "metadata": {
    "tags": []
   },
   "outputs": [
    {
     "output_type": "stream",
     "name": "stdout",
     "text": "/usr/local/bin/samtools\n"
    }
   ],
   "source": [
    "!which samtools"
   ]
  },
  {
   "cell_type": "markdown",
   "metadata": {},
   "source": [
    "##  Two files failed due to the following error (NCRM1-C6.diploidSV.vcf and LNGPI1-C1.diploidSV.vcf)\n",
    "```Traceback (most recent call last):\n",
    "  File \"convertInversion.py\", line 291, in <module>\n",
    "    invMateDict = scanVcf(vcfFile)\n",
    "  File \"convertInversion.py\", line 108, in scanVcf\n",
    "    vcfRec.checkInversion()\n",
    "  File \"convertInversion.py\", line 73, in checkInversion\n",
    "    getMateInfo(']')\n",
    "  File \"convertInversion.py\", line 64, in getMateInfo\n",
    "[self.mateChr, matePos] = items[1].split(':')```\n"
   ]
  },
  {
   "cell_type": "markdown",
   "metadata": {},
   "source": [
    "## Solutions for convertInversions\n",
    "\n",
    "Filter the vcf using \":PASS:\" or \"PASS\""
   ]
  },
  {
   "cell_type": "code",
   "execution_count": 174,
   "metadata": {
    "tags": []
   },
   "outputs": [
    {
     "output_type": "stream",
     "name": "stdout",
     "text": "ran in terminal, python 2 environment of local ((needs to run with python2!))\n\ncd manta-output/\n\n(grep \"^#\" LNGPI1-C1.diploidSV.vcf; grep \":PASS:\" LNGPI1-C1.diploidSV.vcf) > LNGPI1-C1.diploidSV.pass.vcf\npython2.7 convertInversion.py /usr/local/bin/samtools Homo_sapiens_assembly38.fasta LNGPI1-C1.diploidSV.pass.vcf > LNGPI1-C1.diploidSV.1.4.vcf\n\n(grep \"^#\" NCRM1-C6.diploidSV.vcf; grep \":PASS:\" NCRM1-C6.diploidSV.vcf) > NCRM1-C6.diploidSV.pass.vcf\npython2.7 convertInversion.py /usr/local/bin/samtools Homo_sapiens_assembly38.fasta NCRM1-C6.diploidSV.pass.vcf > NCRM1-C6.diploidSV.1.4.vcf\n\n"
    }
   ],
   "source": [
    "##used Mantas convertInversion.py script to covert version 1.6 output back to 1.4 to deal w inversion (ran on local mac)\n",
    "\n",
    "print('ran in terminal, python 2 environment of local ((needs to run with python2!))')\n",
    "print('')\n",
    "print(\"cd manta-output/\")\n",
    "print(\"\")\n",
    "for sample in ['LNGPI1-C1', 'NCRM1-C6']:\n",
    "    # using (grep \"^#\" {sample}.diploidSV.vcf; awk '$7 ~ \"PASS\"' {sample}.diploidSV.vcf) > is better\n",
    "    cmd1=f'(grep \"^#\" {sample}.diploidSV.vcf; grep \":PASS:\" {sample}.diploidSV.vcf) > {sample}.diploidSV.pass.vcf'\n",
    "    print(cmd1)\n",
    "    cmd = f'python2.7 convertInversion.py /usr/local/bin/samtools Homo_sapiens_assembly38.fasta {sample}.diploidSV.pass.vcf > {sample}.diploidSV.1.4.vcf'\n",
    "    print(cmd)\n",
    "    print()\n",
    "    "
   ]
  },
  {
   "cell_type": "markdown",
   "metadata": {},
   "source": [
    "## Run SVTK \n",
    "\n",
    "For SVTK, https://github.com/talkowski-lab/svtk, here are the major steps to run locally:"
   ]
  },
  {
   "cell_type": "code",
   "execution_count": 169,
   "metadata": {
    "tags": []
   },
   "outputs": [
    {
     "output_type": "stream",
     "name": "stdout",
     "text": "/Users/pengl7/Downloads/WGS/SV_calling\n/Users/pengl7/Downloads/WGS/SV_calling/manta-output\n"
    }
   ],
   "source": [
    "print(WRKDIR)\n",
    "print(WRKDIR2)"
   ]
  },
  {
   "cell_type": "markdown",
   "metadata": {},
   "source": [
    "## The two blocks below are different from Anni's syntax, but resutls are the same\n",
    "- Block 1: only select the calls PASS filter\n",
    "- Block 2:  change format: get rid of \"chr\" prefix"
   ]
  },
  {
   "cell_type": "code",
   "execution_count": null,
   "metadata": {},
   "outputs": [],
   "source": [
    "# go to the folder of manta-output in local mac\n",
    "# excute the following commands; clean Manta output: 1.select \"PASS\" calls \n",
    "for sample in 'KOLF2-ARID2-A2' 'KUCG3-C1' 'LNGPI1-C1' 'NCRM1-C6' 'NCRM5-C5' 'NN0003932-C3' 'NN0004297-C1' 'PGP1-C2'\n",
    "do\n",
    "(grep \"^#\" ${sample}.diploidSV.1.4.vcf; awk '$7 == \"PASS\"' ${sample}.diploidSV.1.4.vcf) >  temp.${sample}.diploidSV.1.4.vcf\n",
    "done "
   ]
  },
  {
   "cell_type": "code",
   "execution_count": null,
   "metadata": {},
   "outputs": [],
   "source": [
    "# run in local terminal; replace chr with nothing\n",
    "# gsub(regex, sub, string). gsub stands for global substitution. It replaces every occurrence of regex with the given string (sub). The third parameter is optional.\n",
    "# in the folder of manta-output in local mac\n",
    "for sample in 'KOLF2-ARID2-A2' 'KUCG3-C1' 'LNGPI1-C1' 'NCRM1-C6' 'NCRM5-C5' 'NN0003932-C3' 'NN0004297-C1' 'PGP1-C2'\n",
    "do\n",
    "awk '{{ gsub(/chr/, \"\"); print}}' temp.${sample}.diploidSV.1.4.vcf > ${sample}.diploidSV.1.4.edit.vcf\n",
    "done "
   ]
  },
  {
   "cell_type": "code",
   "execution_count": null,
   "metadata": {},
   "outputs": [],
   "source": [
    "# run in local terminal\n",
    "# #checking for inversions -> found none in any files\n",
    "for sample in 'KOLF2-ARID2-A2' 'KUCG3-C1' 'LNGPI1-C1' 'NCRM1-C6' 'NCRM5-C5' 'NN0003932-C3' 'NN0004297-C1' 'PGP1-C2'\n",
    "do\n",
    "awk '$5 == \"<INV>\"' ${sample}.diploidSV.1.4.edit.vcf | wc -l\n",
    "done"
   ]
  },
  {
   "cell_type": "code",
   "execution_count": null,
   "metadata": {},
   "outputs": [],
   "source": [
    "# run in local terminal\n",
    "for sample in 'KOLF2-ARID2-A2' 'KUCG3-C1' 'LNGPI1-C1' 'NCRM1-C6' 'NCRM5-C5' 'NN0003932-C3' 'NN0004297-C1' 'PGP1-C2'\n",
    "do\n",
    "svtk standardize ${sample}.diploidSV.1.4.edit.vcf ${sample}.diploidSV.standardize.vcf manta\n",
    "done"
   ]
  },
  {
   "cell_type": "code",
   "execution_count": 207,
   "metadata": {
    "tags": []
   },
   "outputs": [],
   "source": [
    "#remove temp files\n",
    "cmd4 = f'rm {WRKDIR2}/temp*diploidSV*.vcf'\n",
    "!{cmd4}\n",
    "#!echo ${cmd4}  # wrong syntax : can't combinate $ and {} in the !style"
   ]
  },
  {
   "cell_type": "code",
   "execution_count": 208,
   "metadata": {
    "tags": []
   },
   "outputs": [
    {
     "output_type": "stream",
     "name": "stdout",
     "text": "total 6553560\n-rw-r--r--  1 pengl7  NIH\\Domain Users   828K Sep 14 15:41 PGP1-C2.diploidSV.standardize.vcf\n-rw-r--r--  1 pengl7  NIH\\Domain Users   842K Sep 14 15:41 NN0004297-C1.diploidSV.standardize.vcf\n-rw-r--r--  1 pengl7  NIH\\Domain Users   714K Sep 14 15:41 NN0003932-C3.diploidSV.standardize.vcf\n-rw-r--r--  1 pengl7  NIH\\Domain Users   801K Sep 14 15:41 NCRM5-C5.diploidSV.standardize.vcf\n-rw-r--r--  1 pengl7  NIH\\Domain Users   827K Sep 14 15:41 NCRM1-C6.diploidSV.standardize.vcf\n-rw-r--r--  1 pengl7  NIH\\Domain Users   760K Sep 14 15:41 LNGPI1-C1.diploidSV.standardize.vcf\n-rw-r--r--  1 pengl7  NIH\\Domain Users   1.0M Sep 14 15:41 KUCG3-C1.diploidSV.standardize.vcf\n-rw-r--r--  1 pengl7  NIH\\Domain Users   860K Sep 14 15:41 KOLF2-ARID2-A2.diploidSV.standardize.vcf\n-rw-r--r--  1 pengl7  NIH\\Domain Users   2.5M Sep 14 15:36 PGP1-C2.diploidSV.1.4.edit.vcf\n-rw-r--r--  1 pengl7  NIH\\Domain Users   2.5M Sep 14 15:36 NN0004297-C1.diploidSV.1.4.edit.vcf\n-rw-r--r--  1 pengl7  NIH\\Domain Users   2.1M Sep 14 15:36 NN0003932-C3.diploidSV.1.4.edit.vcf\n-rw-r--r--  1 pengl7  NIH\\Domain Users   2.4M Sep 14 15:36 NCRM5-C5.diploidSV.1.4.edit.vcf\n-rw-r--r--  1 pengl7  NIH\\Domain Users   2.5M Sep 14 15:36 NCRM1-C6.diploidSV.1.4.edit.vcf\n-rw-r--r--  1 pengl7  NIH\\Domain Users   2.3M Sep 14 15:36 LNGPI1-C1.diploidSV.1.4.edit.vcf\n-rw-r--r--  1 pengl7  NIH\\Domain Users   3.2M Sep 14 15:36 KUCG3-C1.diploidSV.1.4.edit.vcf\n-rw-r--r--  1 pengl7  NIH\\Domain Users   2.6M Sep 14 15:36 KOLF2-ARID2-A2.diploidSV.1.4.edit.vcf\n-rw-r--r--  1 pengl7  NIH\\Domain Users   1.2M Sep 11 20:19 diff.awk.grep\n-rw-r--r--  1 pengl7  NIH\\Domain Users   2.7M Sep 11 20:18 method.grep.vcf\n-rw-r--r--  1 pengl7  NIH\\Domain Users   2.4M Sep 11 20:18 method.awk.vcf\n-rw-r--r--  1 pengl7  NIH\\Domain Users   2.6M Sep 10 21:55 LNGPI1-C1.diploidSV.1.4.vcf\n-rw-r--r--  1 pengl7  NIH\\Domain Users   2.8M Sep 10 21:54 NCRM1-C6.diploidSV.1.4.vcf\n-rw-r-----  1 pengl7  NIH\\Domain Users   3.0M Sep 10 21:53 PGP1-C2.diploidSV.1.4.vcf\n-rw-r-----  1 pengl7  NIH\\Domain Users   3.1M Sep 10 21:53 NN0004297-C1.diploidSV.1.4.vcf\n-rw-r-----  1 pengl7  NIH\\Domain Users   2.6M Sep 10 21:53 NN0003932-C3.diploidSV.1.4.vcf\n-rw-r-----  1 pengl7  NIH\\Domain Users   2.9M Sep 10 21:53 NCRM5-C5.diploidSV.1.4.vcf\n-rw-r-----  1 pengl7  NIH\\Domain Users   3.8M Sep 10 21:53 KUCG3-C1.diploidSV.1.4.vcf\n-rw-r-----  1 pengl7  NIH\\Domain Users   3.1M Sep 10 21:53 KOLF2-ARID2-A2.diploidSV.1.4.vcf\n-rw-r--r--  1 pengl7  NIH\\Domain Users   2.9M Sep 10 21:48 NCRM1-C6.diploidSV.pass.vcf\n-rw-r--r--  1 pengl7  NIH\\Domain Users   157K Sep 10 21:44 Homo_sapiens_assembly38.fasta.fai\n-rw-r--r--  1 pengl7  NIH\\Domain Users   2.6M Sep 10 21:43 LNGPI1-C1.diploidSV.pass.vcf\n-rw-r--r--@ 1 pengl7  NIH\\Domain Users   9.3K Sep  9 18:03 convertInversions.edit.py\n-rw-r--r--  1 pengl7  NIH\\Domain Users   168K Sep  9 15:20 KOLF2-ARID2-A2.diploidSV.nopaired.vcf\n-rw-r--r--  1 pengl7  NIH\\Domain Users   168K Sep  9 14:47 NCRM1-C6.diploidSV.nopaired.vcf\n-rw-r--r--  1 pengl7  NIH\\Domain Users   168K Sep  9 14:47 LNGPI1-C1.diploidSV.nopaired.vcf\n-rw-r--r--  1 pengl7  NIH\\Domain Users   3.0G Sep  9 10:19 Homo_sapiens_assembly38.fasta\n-rw-r--r--@ 1 pengl7  NIH\\Domain Users   9.3K Sep  9 09:48 convertInversion.py\n-rw-r--r--  1 pengl7  NIH\\Domain Users    90K Sep  9 09:43 PGP1-C2.diploidSV.vcf.gz.tbi\n-rw-r--r--  1 pengl7  NIH\\Domain Users   3.1M Sep  9 09:43 PGP1-C2.diploidSV.vcf\n-rw-r--r--  1 pengl7  NIH\\Domain Users    94K Sep  9 09:43 NN0004297-C1.diploidSV.vcf.gz.tbi\n-rw-r--r--  1 pengl7  NIH\\Domain Users   3.1M Sep  9 09:43 NN0004297-C1.diploidSV.vcf\n-rw-r--r--  1 pengl7  NIH\\Domain Users    85K Sep  9 09:43 NN0003932-C3.diploidSV.vcf.gz.tbi\n-rw-r--r--  1 pengl7  NIH\\Domain Users   2.7M Sep  9 09:43 NN0003932-C3.diploidSV.vcf\n-rw-r--r--  1 pengl7  NIH\\Domain Users    88K Sep  9 09:43 NCRM5-C5.diploidSV.vcf.gz.tbi\n-rw-r--r--  1 pengl7  NIH\\Domain Users   2.9M Sep  9 09:43 NCRM5-C5.diploidSV.vcf\n-rw-r--r--  1 pengl7  NIH\\Domain Users    91K Sep  9 09:43 NCRM1-C6.diploidSV.vcf.gz.tbi\n-rw-r--r--  1 pengl7  NIH\\Domain Users   3.1M Sep  9 09:43 NCRM1-C6.diploidSV.vcf\n-rw-r--r--  1 pengl7  NIH\\Domain Users    87K Sep  9 09:43 LNGPI1-C1.diploidSV.vcf.gz.tbi\n-rw-r--r--  1 pengl7  NIH\\Domain Users   2.8M Sep  9 09:43 LNGPI1-C1.diploidSV.vcf\n-rw-r--r--  1 pengl7  NIH\\Domain Users   105K Sep  9 09:43 KUCG3-C1.diploidSV.vcf.gz.tbi\n-rw-r--r--  1 pengl7  NIH\\Domain Users   3.9M Sep  9 09:43 KUCG3-C1.diploidSV.vcf\n-rw-r--r--  1 pengl7  NIH\\Domain Users    92K Sep  9 09:43 KOLF2-ARID2-A2.diploidSV.vcf.gz.tbi\n-rw-r--r--  1 pengl7  NIH\\Domain Users   3.1M Sep  9 09:43 KOLF2-ARID2-A2.diploidSV.vcf\n"
    }
   ],
   "source": [
    "%ls -lth manta-output/\n"
   ]
  },
  {
   "cell_type": "code",
   "execution_count": 206,
   "metadata": {},
   "outputs": [
    {
     "output_type": "execute_result",
     "data": {
      "text/plain": "['KOLF2-ARID2-A2',\n 'KUCG3-C1',\n 'LNGPI1-C1',\n 'NCRM1-C6',\n 'NCRM5-C5',\n 'NN0003932-C3',\n 'NN0004297-C1',\n 'PGP1-C2']"
     },
     "metadata": {},
     "execution_count": 206
    }
   ],
   "source": [
    "samples_list"
   ]
  },
  {
   "cell_type": "code",
   "execution_count": 209,
   "metadata": {},
   "outputs": [],
   "source": [
    "##ran on local\n",
    "##create a list file with path to the per sample standardize.vcf files\n",
    "\n",
    "out_file_name = f'{WRKDIR2}/sv-manta.standardize.vcf.list'\n",
    "\n",
    "# out_file = open(f'{out_file_name}', \"w\")\n",
    "# for sample in samples_list:\n",
    "    \n",
    "#     direct = f'{WRKDIR}/{sample}.diploidSV.standardize.vcf'\n",
    "#     print(f'{direct}', file=out_file)\n",
    "\n",
    "with open(f'{out_file_name}', \"w\") as output:\n",
    "    for sample in samples_list:\n",
    "        direct = f'{WRKDIR2}/{sample}.diploidSV.standardize.vcf'\n",
    "        output.write(direct + '\\n')\n",
    "      "
   ]
  },
  {
   "cell_type": "code",
   "execution_count": 213,
   "metadata": {
    "tags": []
   },
   "outputs": [
    {
     "output_type": "stream",
     "name": "stdout",
     "text": "/Users/pengl7/Downloads/WGS/SV_calling/manta-output/KOLF2-ARID2-A2.diploidSV.standardize.vcf\n/Users/pengl7/Downloads/WGS/SV_calling/manta-output/KUCG3-C1.diploidSV.standardize.vcf\n/Users/pengl7/Downloads/WGS/SV_calling/manta-output/LNGPI1-C1.diploidSV.standardize.vcf\n/Users/pengl7/Downloads/WGS/SV_calling/manta-output/NCRM1-C6.diploidSV.standardize.vcf\n/Users/pengl7/Downloads/WGS/SV_calling/manta-output/NCRM5-C5.diploidSV.standardize.vcf\n/Users/pengl7/Downloads/WGS/SV_calling/manta-output/NN0003932-C3.diploidSV.standardize.vcf\n/Users/pengl7/Downloads/WGS/SV_calling/manta-output/NN0004297-C1.diploidSV.standardize.vcf\n/Users/pengl7/Downloads/WGS/SV_calling/manta-output/PGP1-C2.diploidSV.standardize.vcf\n"
    }
   ],
   "source": [
    "%cat manta-output/sv-manta.standardize.vcf.list"
   ]
  },
  {
   "cell_type": "code",
   "execution_count": 214,
   "metadata": {},
   "outputs": [
    {
     "output_type": "execute_result",
     "data": {
      "text/plain": "'/Users/pengl7/Downloads/WGS/SV_calling/manta-output'"
     },
     "metadata": {},
     "execution_count": 214
    }
   ],
   "source": [
    "WRKDIR2"
   ]
  },
  {
   "cell_type": "code",
   "execution_count": 215,
   "metadata": {
    "tags": []
   },
   "outputs": [
    {
     "output_type": "stream",
     "name": "stdout",
     "text": "run in terminal:\n\nsvtk vcfcluster -t INS,DEL,DUP,INV,BND /Users/pengl7/Downloads/WGS/SV_calling/manta-output/sv-manta.standardize.vcf.list sv-manta.standardize.cluster.vcf\n"
    }
   ],
   "source": [
    "print('run in terminal:')\n",
    "print(\"\")\n",
    "cmd2 = f'svtk vcfcluster -t INS,DEL,DUP,INV,BND {WRKDIR2}/sv-manta.standardize.vcf.list sv-manta.standardize.cluster.vcf'\n",
    "print(cmd2)"
   ]
  },
  {
   "cell_type": "markdown",
   "metadata": {},
   "source": [
    "[W::vcf_parse] INFO/END=7147042 is smaller than POS at 1:10401969"
   ]
  },
  {
   "cell_type": "code",
   "execution_count": 216,
   "metadata": {
    "tags": []
   },
   "outputs": [
    {
     "output_type": "stream",
     "name": "stdout",
     "text": "total 6559784\n-rw-r--r--  1 pengl7  NIH\\Domain Users   2.3M Sep 17 16:10 sv-manta.standardize.cluster.vcf\n-rw-r--r--  1 pengl7  NIH\\Domain Users   710B Sep 17 16:06 sv-manta.standardize.vcf.list\n-rw-r--r--  1 pengl7  NIH\\Domain Users   828K Sep 14 15:41 PGP1-C2.diploidSV.standardize.vcf\n-rw-r--r--  1 pengl7  NIH\\Domain Users   842K Sep 14 15:41 NN0004297-C1.diploidSV.standardize.vcf\n-rw-r--r--  1 pengl7  NIH\\Domain Users   714K Sep 14 15:41 NN0003932-C3.diploidSV.standardize.vcf\n-rw-r--r--  1 pengl7  NIH\\Domain Users   801K Sep 14 15:41 NCRM5-C5.diploidSV.standardize.vcf\n-rw-r--r--  1 pengl7  NIH\\Domain Users   827K Sep 14 15:41 NCRM1-C6.diploidSV.standardize.vcf\n-rw-r--r--  1 pengl7  NIH\\Domain Users   760K Sep 14 15:41 LNGPI1-C1.diploidSV.standardize.vcf\n-rw-r--r--  1 pengl7  NIH\\Domain Users   1.0M Sep 14 15:41 KUCG3-C1.diploidSV.standardize.vcf\n-rw-r--r--  1 pengl7  NIH\\Domain Users   860K Sep 14 15:41 KOLF2-ARID2-A2.diploidSV.standardize.vcf\n-rw-r--r--  1 pengl7  NIH\\Domain Users   2.5M Sep 14 15:36 PGP1-C2.diploidSV.1.4.edit.vcf\n-rw-r--r--  1 pengl7  NIH\\Domain Users   2.5M Sep 14 15:36 NN0004297-C1.diploidSV.1.4.edit.vcf\n-rw-r--r--  1 pengl7  NIH\\Domain Users   2.1M Sep 14 15:36 NN0003932-C3.diploidSV.1.4.edit.vcf\n-rw-r--r--  1 pengl7  NIH\\Domain Users   2.4M Sep 14 15:36 NCRM5-C5.diploidSV.1.4.edit.vcf\n-rw-r--r--  1 pengl7  NIH\\Domain Users   2.5M Sep 14 15:36 NCRM1-C6.diploidSV.1.4.edit.vcf\n-rw-r--r--  1 pengl7  NIH\\Domain Users   2.3M Sep 14 15:36 LNGPI1-C1.diploidSV.1.4.edit.vcf\n-rw-r--r--  1 pengl7  NIH\\Domain Users   3.2M Sep 14 15:36 KUCG3-C1.diploidSV.1.4.edit.vcf\n-rw-r--r--  1 pengl7  NIH\\Domain Users   2.6M Sep 14 15:36 KOLF2-ARID2-A2.diploidSV.1.4.edit.vcf\n-rw-r--r--  1 pengl7  NIH\\Domain Users   1.2M Sep 11 20:19 diff.awk.grep\n-rw-r--r--  1 pengl7  NIH\\Domain Users   2.7M Sep 11 20:18 method.grep.vcf\n-rw-r--r--  1 pengl7  NIH\\Domain Users   2.4M Sep 11 20:18 method.awk.vcf\n-rw-r--r--  1 pengl7  NIH\\Domain Users   2.6M Sep 10 21:55 LNGPI1-C1.diploidSV.1.4.vcf\n-rw-r--r--  1 pengl7  NIH\\Domain Users   2.8M Sep 10 21:54 NCRM1-C6.diploidSV.1.4.vcf\n-rw-r-----  1 pengl7  NIH\\Domain Users   3.0M Sep 10 21:53 PGP1-C2.diploidSV.1.4.vcf\n-rw-r-----  1 pengl7  NIH\\Domain Users   3.1M Sep 10 21:53 NN0004297-C1.diploidSV.1.4.vcf\n-rw-r-----  1 pengl7  NIH\\Domain Users   2.6M Sep 10 21:53 NN0003932-C3.diploidSV.1.4.vcf\n-rw-r-----  1 pengl7  NIH\\Domain Users   2.9M Sep 10 21:53 NCRM5-C5.diploidSV.1.4.vcf\n-rw-r-----  1 pengl7  NIH\\Domain Users   3.8M Sep 10 21:53 KUCG3-C1.diploidSV.1.4.vcf\n-rw-r-----  1 pengl7  NIH\\Domain Users   3.1M Sep 10 21:53 KOLF2-ARID2-A2.diploidSV.1.4.vcf\n-rw-r--r--  1 pengl7  NIH\\Domain Users   2.9M Sep 10 21:48 NCRM1-C6.diploidSV.pass.vcf\n-rw-r--r--  1 pengl7  NIH\\Domain Users   157K Sep 10 21:44 Homo_sapiens_assembly38.fasta.fai\n-rw-r--r--  1 pengl7  NIH\\Domain Users   2.6M Sep 10 21:43 LNGPI1-C1.diploidSV.pass.vcf\n-rw-r--r--@ 1 pengl7  NIH\\Domain Users   9.3K Sep  9 18:03 convertInversions.edit.py\n-rw-r--r--  1 pengl7  NIH\\Domain Users   168K Sep  9 15:20 KOLF2-ARID2-A2.diploidSV.nopaired.vcf\n-rw-r--r--  1 pengl7  NIH\\Domain Users   168K Sep  9 14:47 NCRM1-C6.diploidSV.nopaired.vcf\n-rw-r--r--  1 pengl7  NIH\\Domain Users   168K Sep  9 14:47 LNGPI1-C1.diploidSV.nopaired.vcf\n-rw-r--r--  1 pengl7  NIH\\Domain Users   3.0G Sep  9 10:19 Homo_sapiens_assembly38.fasta\n-rw-r--r--@ 1 pengl7  NIH\\Domain Users   9.3K Sep  9 09:48 convertInversion.py\n-rw-r--r--  1 pengl7  NIH\\Domain Users    90K Sep  9 09:43 PGP1-C2.diploidSV.vcf.gz.tbi\n-rw-r--r--  1 pengl7  NIH\\Domain Users   3.1M Sep  9 09:43 PGP1-C2.diploidSV.vcf\n-rw-r--r--  1 pengl7  NIH\\Domain Users    94K Sep  9 09:43 NN0004297-C1.diploidSV.vcf.gz.tbi\n-rw-r--r--  1 pengl7  NIH\\Domain Users   3.1M Sep  9 09:43 NN0004297-C1.diploidSV.vcf\n-rw-r--r--  1 pengl7  NIH\\Domain Users    85K Sep  9 09:43 NN0003932-C3.diploidSV.vcf.gz.tbi\n-rw-r--r--  1 pengl7  NIH\\Domain Users   2.7M Sep  9 09:43 NN0003932-C3.diploidSV.vcf\n-rw-r--r--  1 pengl7  NIH\\Domain Users    88K Sep  9 09:43 NCRM5-C5.diploidSV.vcf.gz.tbi\n-rw-r--r--  1 pengl7  NIH\\Domain Users   2.9M Sep  9 09:43 NCRM5-C5.diploidSV.vcf\n-rw-r--r--  1 pengl7  NIH\\Domain Users    91K Sep  9 09:43 NCRM1-C6.diploidSV.vcf.gz.tbi\n-rw-r--r--  1 pengl7  NIH\\Domain Users   3.1M Sep  9 09:43 NCRM1-C6.diploidSV.vcf\n-rw-r--r--  1 pengl7  NIH\\Domain Users    87K Sep  9 09:43 LNGPI1-C1.diploidSV.vcf.gz.tbi\n-rw-r--r--  1 pengl7  NIH\\Domain Users   2.8M Sep  9 09:43 LNGPI1-C1.diploidSV.vcf\n-rw-r--r--  1 pengl7  NIH\\Domain Users   105K Sep  9 09:43 KUCG3-C1.diploidSV.vcf.gz.tbi\n-rw-r--r--  1 pengl7  NIH\\Domain Users   3.9M Sep  9 09:43 KUCG3-C1.diploidSV.vcf\n-rw-r--r--  1 pengl7  NIH\\Domain Users    92K Sep  9 09:43 KOLF2-ARID2-A2.diploidSV.vcf.gz.tbi\n-rw-r--r--  1 pengl7  NIH\\Domain Users   3.1M Sep  9 09:43 KOLF2-ARID2-A2.diploidSV.vcf\n"
    }
   ],
   "source": [
    "%ls -lth manta-output/"
   ]
  },
  {
   "cell_type": "code",
   "execution_count": 267,
   "metadata": {
    "tags": []
   },
   "outputs": [
    {
     "output_type": "stream",
     "name": "stderr",
     "text": "Copying file://sv.md5 [Content-Type=application/octet-stream]...\n/ [1/1 files][  787.0 B/  787.0 B] 100% Done                                    \nOperation completed over 1 objects/787.0 B.                                      \n"
    }
   ],
   "source": [
    "%%bash\n",
    "cd manta-output/\n",
    "gsutil -m cp sv.md5 gs://singlecellindi/WGS/Jax/IlluminaWGS/structural-variants-after-svtk/"
   ]
  },
  {
   "cell_type": "code",
   "execution_count": 436,
   "metadata": {
    "tags": []
   },
   "outputs": [
    {
     "output_type": "stream",
     "name": "stdout",
     "text": "gs://singlecellindi/\ngs://test-7cee72c0e768/\ngs://transfer_27may/\n"
    }
   ],
   "source": [
    "# copy the data to the singlecellindi bucket and follow the folder structure of the last one analyzed by Anni\n",
    "# folder of structure-varaints containes the vcf files after svtk processing and merge\n",
    "# folder of sv-manta contains the vcf after manta analysis\n",
    "!gsutil ls"
   ]
  }
 ],
 "metadata": {
  "kernelspec": {
   "display_name": "Python 3",
   "language": "python",
   "name": "python3"
  },
  "language_info": {
   "codemirror_mode": {
    "name": "ipython",
    "version": 3
   },
   "file_extension": ".py",
   "mimetype": "text/x-python",
   "name": "python",
   "nbconvert_exporter": "python",
   "pygments_lexer": "ipython3",
   "version": "3.7.7"
  }
 },
 "nbformat": 4,
 "nbformat_minor": 2
}